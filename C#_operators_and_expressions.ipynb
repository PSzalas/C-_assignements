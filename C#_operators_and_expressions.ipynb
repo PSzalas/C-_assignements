{
 "cells": [
  {
   "cell_type": "markdown",
   "metadata": {},
   "source": [
    "### Zadanie 1\n",
    "\n",
    "Napisz funkcję (najlepiej przedefiniować `ToString`), która dla zadanego wyrażenia w języku programowania C# zwróci łańcuch znaków w postaci ONP. Przykładowo:\n",
    "\n",
    "dla wyrażenia `x = a - b * c`, gdzie `a`, `b`, `c` to klasy typu `OnpExpression`, a `-`, `*` to operatory, funkcja `x.ToString()` zwróci \"a b - c *\" (brak priorytetów dla operacji i nawiasów).\n",
    "\n",
    "Klasa `OnpExpression` powinna przechowywać swoje wartości tak, aby uprościć metodzie `ToString` zwracanie wyniku.\n",
    "\n",
    "## Zadanie 2\n",
    "\n",
    "Napisz operator dla `<` i `>`, który sprawdza, czy suma elementów listy jest większa czy mniejsza od drugiej listy. Przykładowo dla `a = [1,2,3,4]` i `b = [20,30]` `a < b` powinno zwrócić wartość `true`.\n",
    "\n",
    "### Zadanie 2\n",
    "\n",
    "Dana jest klasa `Student` przechowująca dane typu: numer indeksu, wiek, płeć, rok studiów, semestr; klasa `Degree` przechowująca dane: przedmiot, ocenę, rok zaliczenia, semestr. Używając *LINQ*. \n",
    "\n",
    "* Połącz dane z klasy `Student` i `Degree`.\n",
    "* Wyświetl studentów, których wiek jest większy, niż średnia dla studentów na roku.\n",
    "* Wyświetl studentów, których średnia ocen jest większa niż pozostałych studentów na roku.\n"
   ]
  },
  {
   "cell_type": "code",
   "execution_count": 2,
   "metadata": {
    "dotnet_interactive": {
     "language": "csharp"
    },
    "polyglot_notebook": {
     "kernelName": "csharp"
    }
   },
   "outputs": [],
   "source": [
    "//Zadanie 1\n",
    "\n",
    "public class OnpExpression\n",
    "{\n",
    "    public string Value { get; set; }\n",
    "    public OnpExpression Left { get; set; }\n",
    "    public OnpExpression Right { get; set; }\n",
    "    public string Operator { get; set; }\n",
    "\n",
    "    public override string ToString()\n",
    "    {\n",
    "        if (Left == null && Right == null)\n",
    "        {\n",
    "            return Value;\n",
    "        }\n",
    "        else\n",
    "        {\n",
    "\n",
    "            return Left.ToString() + \" \" + Right.ToString() + \" \" + Operator;\n",
    "        }\n",
    "    }\n",
    "}\n",
    "\n",
    "\n",
    "public class Program\n",
    "{\n",
    "    public static void Main(string[] args)\n",
    "    {\n",
    "        OnpExpression a = new OnpExpression { Value = \"a\" };\n",
    "        OnpExpression b = new OnpExpression { Value = \"b\" };\n",
    "        OnpExpression c = new OnpExpression { Value = \"c\" };\n",
    "\n",
    "        OnpExpression expression = new OnpExpression\n",
    "        {\n",
    "            Left = a,\n",
    "            Right = new OnpExpression\n",
    "            {\n",
    "                Left = b,\n",
    "                Right = c,\n",
    "                Operator = \"*\"\n",
    "            },\n",
    "            Operator = \"-\"\n",
    "        };\n",
    "\n",
    "        string onp = expression.ToString();\n",
    "        Console.WriteLine(onp);\n",
    "\n",
    "    }\n",
    "}"
   ]
  },
  {
   "cell_type": "code",
   "execution_count": 3,
   "metadata": {
    "dotnet_interactive": {
     "language": "csharp"
    },
    "polyglot_notebook": {
     "kernelName": "csharp"
    }
   },
   "outputs": [],
   "source": [
    "//Zadanie 2\n",
    "\n",
    "using System.Linq;\n",
    "using System.Collections.Generic;\n",
    "\n",
    "public class ListIntComparer\n",
    "{\n",
    "    public static bool IsLessThan(List<int> list1, List<int> list2)\n",
    "    {\n",
    "        int sum1 = list1.Sum();\n",
    "        int sum2 = list2.Sum();\n",
    "        return sum1 < sum2;\n",
    "    }\n",
    "\n",
    "    public static bool IsGreaterThan(List<int> list1, List<int> list2)\n",
    "    {\n",
    "        int sum1 = list1.Sum();\n",
    "        int sum2 = list2.Sum();\n",
    "        return sum1 > sum2;\n",
    "    }\n",
    "}\n",
    "\n",
    "public class Program\n",
    "{\n",
    "    public static void Main(string[] args)\n",
    "    {\n",
    "        List<int> a = new List<int> { 5, 10, 15, 20 };\n",
    "        List<int> b = new List<int> { 50, 100 };\n",
    "\n",
    "        if (ListIntComparer.IsLessThan(a, b))\n",
    "        {\n",
    "            Console.WriteLine(\"a jest mniejsze niż b\");\n",
    "        }\n",
    "        else if (ListIntComparer.IsGreaterThan(a, b))\n",
    "        {\n",
    "            Console.WriteLine(\"a jest większe niż b\");\n",
    "        }\n",
    "        else\n",
    "        {\n",
    "            Console.WriteLine(\"a jest równe b\");\n",
    "        }\n",
    "    }\n",
    "}"
   ]
  },
  {
   "cell_type": "code",
   "execution_count": 5,
   "metadata": {
    "dotnet_interactive": {
     "language": "csharp"
    },
    "polyglot_notebook": {
     "kernelName": "csharp"
    }
   },
   "outputs": [],
   "source": [
    "//Zadanie 3\n",
    "\n",
    "class Student\n",
    "{\n",
    "    public int IndexNumber { get; set; }\n",
    "    public int Age { get; set; }\n",
    "    public char Gender { get; set; }\n",
    "    public int YearOfStudies { get; set; }\n",
    "    public int Semester { get; set; }\n",
    "}\n",
    "\n",
    "\n",
    "class Degree\n",
    "{\n",
    "    public string Subject { get; set; }\n",
    "    public int Grade { get; set; }\n",
    "    public int Year { get; set; }\n",
    "    public int Semester { get; set; }\n",
    "}\n",
    "\n",
    "class Program\n",
    "{\n",
    "    static void Main(string[] args)\n",
    "    {\n",
    "        Student[] students =\n",
    "        {\n",
    "            new Student { IndexNumber = 1, Age = 18, Gender = 'B', YearOfStudies = 1, Semester = 1 },\n",
    "            new Student { IndexNumber = 2, Age = 19, Gender = 'K', YearOfStudies = 1, Semester = 1 },\n",
    "            new Student { IndexNumber = 3, Age = 20, Gender = 'B', YearOfStudies = 2, Semester = 2 },\n",
    "            new Student { IndexNumber = 4, Age = 21, Gender = 'K', YearOfStudies = 2, Semester = 2 },\n",
    "            new Student { IndexNumber = 5, Age = 22, Gender = 'K', YearOfStudies = 3, Semester = 1 },\n",
    "            new Student { IndexNumber = 6, Age = 23, Gender = 'B', YearOfStudies = 3, Semester = 1 }\n",
    "        };\n",
    "\n",
    "        Degree[] degrees =\n",
    "        {\n",
    "            new Degree { Subject = \"Math\", Grade = 4, Year = 1, Semester = 1 },\n",
    "            new Degree { Subject = \"Physics\", Grade = 5, Year = 1, Semester = 1 },\n",
    "            new Degree { Subject = \"Biology\", Grade = 3, Year = 2, Semester = 2 },\n",
    "            new Degree { Subject = \"Chemistry\", Grade = 4, Year = 2, Semester = 2 },\n",
    "            new Degree { Subject = \"Computer Science\", Grade = 5, Year = 3, Semester = 1 },\n",
    "            new Degree { Subject = \"Economics\", Grade = 4, Year = 3, Semester = 1 }\n",
    "        };\n",
    "\n",
    "       \n",
    "        var studentsAndDegrees = from s in students\n",
    "                                 join d in degrees on new { Year = s.YearOfStudies, Semester = s.Semester } equals new\n",
    "                                 {\n",
    "                                     d.Year,\n",
    "                                     d.Semester\n",
    "                                 }\n",
    "                                 select new\n",
    "                                 {\n",
    "                                     s.IndexNumber,\n",
    "                                     s.Age,\n",
    "                                     s.Gender,\n",
    "                                     s.YearOfStudies,\n",
    "                                     s.Semester,\n",
    "                                     d.Subject,\n",
    "                                     d.Grade\n",
    "                                 };\n",
    "\n",
    "        Console.WriteLine(\"Studentów, których wiek jest większy niż średnia dla studentów na roku:\");\n",
    "        foreach (var student in studentsAndDegrees)\n",
    "        {\n",
    "            if (student.Age > students.Where(s => s.YearOfStudies == student.YearOfStudies && s.IndexNumber != student.IndexNumber).Average(s => s.Age))\n",
    "            {\n",
    "                Console.WriteLine(\"IndexNumber: {0}, Age: {1}, Gender: {2}, YearOfStudies: {3}, Semester: {4}, Subject: {5}, Grade: {6}\",\n",
    "                    student.IndexNumber, student.Age, student.Gender, student.YearOfStudies, student.Semester, student.Subject, student.Grade);\n",
    "            }\n",
    "        }\n",
    "\n",
    "        \n",
    "        Console.WriteLine(\"\\nStudentów, których średnia ocen jest większa niż pozostałych studentów na roku:\");\n",
    "        foreach (var student in studentsAndDegrees)\n",
    "        {\n",
    "            if (student.Grade > studentsAndDegrees.Where(sd => sd.YearOfStudies == student.YearOfStudies && sd.IndexNumber != student.IndexNumber).Average(sd => sd.Grade))\n",
    "            {\n",
    "                Console.WriteLine(\"IndexNumber: {0}, Age: {1}, Gender: {2}, YearOfStudies: {3}, Semester: {4}, Subject: {5}, Grade: {6}\",\n",
    "                    student.IndexNumber, student.Age, student.Gender, student.YearOfStudies, student.Semester, student.Subject, student.Grade);\n",
    "            }\n",
    "        }\n",
    "    }\n",
    "}"
   ]
  }
 ],
 "metadata": {
  "kernelspec": {
   "display_name": ".NET (C#)",
   "language": "C#",
   "name": ".net-csharp"
  },
  "language_info": {
   "name": "polyglot-notebook"
  },
  "polyglot_notebook": {
   "kernelInfo": {
    "defaultKernelName": "csharp",
    "items": [
     {
      "aliases": [],
      "name": ".NET"
     },
     {
      "aliases": [
       "C#",
       "c#"
      ],
      "languageName": "C#",
      "name": "csharp"
     },
     {
      "aliases": [
       "F#",
       "f#"
      ],
      "languageName": "F#",
      "name": "fsharp"
     },
     {
      "aliases": [],
      "languageName": "HTML",
      "name": "html"
     },
     {
      "aliases": [],
      "languageName": "KQL",
      "name": "kql"
     },
     {
      "aliases": [],
      "languageName": "Mermaid",
      "name": "mermaid"
     },
     {
      "aliases": [
       "powershell"
      ],
      "languageName": "PowerShell",
      "name": "pwsh"
     },
     {
      "aliases": [],
      "languageName": "SQL",
      "name": "sql"
     },
     {
      "aliases": [],
      "name": "value"
     },
     {
      "aliases": [
       "frontend"
      ],
      "name": "vscode"
     }
    ]
   }
  }
 },
 "nbformat": 4,
 "nbformat_minor": 2
}
